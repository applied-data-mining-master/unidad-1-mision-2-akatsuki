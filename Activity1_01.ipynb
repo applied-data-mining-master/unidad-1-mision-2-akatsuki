{
 "cells": [
  {
   "cell_type": "markdown",
   "metadata": {},
   "source": [
    "# Activity 1.01: Generating All Possible Sequences of Steps in a Tic-Tac-Toe Game\n",
    "\n",
    "This activity will explore the combinatorial explosion that is possible when two players play randomly. We will be using a program that, building on the previous results, generates all possible sequences of moves between a computer player and a human player.\n",
    "\n",
    "Let's assume that the human player may make any possible move. In this example, given that the computer player is playing randomly, we will examine the wins, losses, and draws belonging to two randomly playing players.\n",
    "\n",
    "Expected output:\n",
    "\n",
    "```\n",
    "step 0. Moves: 1\n",
    "step 1. Moves: 9\n",
    "step 2. Moves: 72\n",
    "step 3. Moves: 504\n",
    "step 4. Moves: 3024\n",
    "step 5. Moves: 13680\n",
    "step 6. Moves: 49402\n",
    "step 7. Moves: 111109\n",
    "step 8. Moves: 156775\n",
    "First player wins: 106279\n",
    "Second player wins: 68644\n",
    "Draw 91150\n",
    "Total 266073\n",
    "```\n",
    "\n",
    "  > **Hints**  \n",
    "  >  1. Reuse all the function codes of Steps 1–9 from the Exercise 1.02.\n",
    "  >  2. Create a function that maps the `all_moves_from_board` function on each element of a list of board spaces/squares. This way, we will have all of the nodes of a decision tree. The decision tree starts with `[ EMPTY_SIGN * 9 ]` and expands after each move.\n",
    "  >  3. Create a `filter_wins` function that takes finished games out of the list of moves and appends them in an array containing the board states won by the AI player and the opponent player.\n",
    "  >  4. Create a `count_possibilities` function that prints and returns the number of decision tree leaves that ended with a draw, were won by the first player, and were won by the second player.\n",
    "  >  5. We have up to nine steps in each state. In the 0th, 2nd, 4th, 6th, and 8th iterations, the AI player moves. In all other iterations, the opponent moves. We create all possible moves in all steps and take out finished games from the move list.\n",
    "  >  6. Finally, execute the number of possibilities to experience the combinatorial explosion."
   ]
  },
  {
   "cell_type": "code",
   "execution_count": 1,
   "metadata": {},
   "outputs": [],
   "source": [
    "from random import choice\n",
    "combo_indices = [[0, 1, 2],[3, 4, 5],[6, 7, 8],[0, 3, 6],[1, 4, 7],[2, 5, 8],[0, 4, 8],[2, 4, 6]]\n",
    "EMPTY_SIGN = '.'\n",
    "AI_SIGN = 'X'\n",
    "OPPONENT_SIGN = 'O'\n",
    "def print_board(board):\n",
    "    print(\" \")\n",
    "    print(' '+(board[0])+('|')+(board[1])+('|')+(board[2]))\n",
    "    print (\"------\")\n",
    "    print(' '+(board[3])+('|')+(board[4])+('|')+(board[5]))\n",
    "    print (\"------\")\n",
    "    print(' '+(board[6])+('|')+(board[7])+('|')+(board[8]))\n",
    "    print(\" \")\n",
    "def opponent_move(board, row, column):\n",
    "    index = 3 * (row - 1) + (column - 1)\n",
    "    if board[index] == EMPTY_SIGN:\n",
    "        return board[:index] + OPPONENT_SIGN + board[index+1:]\n",
    "    return board\n",
    "\n",
    "def all_moves_from_board(board, sign):\n",
    "    move_list = []\n",
    "    for i, v in enumerate(board):\n",
    "        if v == EMPTY_SIGN:\n",
    "            move_list.append(board[:i] + sign + board[i+1:])\n",
    "    return move_list\n",
    "\n",
    "def ai_move(board):\n",
    "    return choice(all_moves_from_board(board, AI_SIGN))\n",
    "\n",
    "def game_won_by(board):\n",
    "    for index in combo_indices:\n",
    "        if board[index[0]] == board[index[1]] == board[index[2]] != EMPTY_SIGN:\n",
    "            return board[index[0]]\n",
    "    return EMPTY_SIGN\n",
    "\n",
    "def game_loop():\n",
    "    board = EMPTY_SIGN * 9\n",
    "    empty_cell_count = 9\n",
    "    is_game_ended = False\n",
    "    while empty_cell_count > 0 and not is_game_ended:\n",
    "        if empty_cell_count % 2 == 1:\n",
    "            board = ai_move(board)\n",
    "        else:\n",
    "            row = int(input('Ingresar fila: '))\n",
    "            col = int(input('Ingresar columna: '))\n",
    "            board = opponent_move(board, row, col)\n",
    "        print_board(board)\n",
    "        is_game_ended = game_won_by(board) != EMPTY_SIGN\n",
    "        empty_cell_count = sum(1 for cell in board if cell == EMPTY_SIGN)\n",
    "    print('juego terminado.')"
   ]
  },
  {
   "cell_type": "code",
   "execution_count": 2,
   "metadata": {},
   "outputs": [],
   "source": [
    "def all_moves_from_board_list(board_list, sign):\n",
    "    move_list = []\n",
    "    for board in board_list:\n",
    "        move_list.extend(all_moves_from_board(board, sign))\n",
    "    return move_list"
   ]
  },
  {
   "cell_type": "code",
   "execution_count": 3,
   "metadata": {},
   "outputs": [
    {
     "data": {
      "text/plain": [
       "['X........',\n",
       " '.X.......',\n",
       " '..X......',\n",
       " '...X.....',\n",
       " '....X....',\n",
       " '.....X...',\n",
       " '......X..',\n",
       " '.......X.',\n",
       " '........X']"
      ]
     },
     "execution_count": 3,
     "metadata": {},
     "output_type": "execute_result"
    }
   ],
   "source": [
    "\n",
    "board = EMPTY_SIGN * 9\n",
    "all_moves = all_moves_from_board(board, AI_SIGN )\n",
    "all_moves"
   ]
  },
  {
   "cell_type": "code",
   "execution_count": 4,
   "metadata": {},
   "outputs": [],
   "source": [
    "def filter_wins(move_list, ai_wins, opponent_wins):\n",
    "    for board in move_list:\n",
    "        won_by = game_won_by(board)\n",
    "        if won_by == AI_SIGN:\n",
    "            ai_wins.append(board)\n",
    "            move_list.remove(board)\n",
    "        elif won_by == OPPONENT_SIGN:\n",
    "            opponent_wins.append(board)\n",
    "            move_list.remove(board)"
   ]
  },
  {
   "cell_type": "code",
   "execution_count": 5,
   "metadata": {},
   "outputs": [],
   "source": [
    "def count_possibilities():\n",
    "    board = EMPTY_SIGN * 9\n",
    "    move_list = [board]\n",
    "    ai_wins = []\n",
    "    opponent_wins = []\n",
    "    for i in range(9):\n",
    "        print('Paso ' + str(i) + '. Movimiento: ' + str(len(move_list)))\n",
    "        sign = AI_SIGN if i % 2 == 0 else OPPONENT_SIGN\n",
    "        move_list = all_moves_from_board_list(move_list, sign)\n",
    "        filter_wins(move_list, ai_wins, opponent_wins)\n",
    "    print('1° ganador: ' + str(len(ai_wins)))\n",
    "    print('2° ganador: ' + str(len(opponent_wins)))\n",
    "    print('Empate', str(len(move_list)))\n",
    "    print('Total', str(len(ai_wins) + len(opponent_wins) + len(move_list)))\n",
    "    return len(ai_wins), len(opponent_wins), len(move_list), len(ai_wins) + len(opponent_wins) + len(move_list)"
   ]
  },
  {
   "cell_type": "code",
   "execution_count": 6,
   "metadata": {},
   "outputs": [
    {
     "name": "stdout",
     "output_type": "stream",
     "text": [
      "step 0. Moves: 1\n",
      "step 1. Moves: 9\n",
      "step 2. Moves: 72\n",
      "step 3. Moves: 504\n",
      "step 4. Moves: 3024\n",
      "step 5. Moves: 13680\n",
      "step 6. Moves: 49402\n",
      "step 7. Moves: 111109\n",
      "step 8. Moves: 156775\n",
      "First player wins: 106279\n",
      "Second player wins: 68644\n",
      "Draw 91150\n",
      "Total 266073\n"
     ]
    }
   ],
   "source": [
    "first_player, second_player, draw, total = count_possibilities()"
   ]
  },
  {
   "cell_type": "markdown",
   "metadata": {},
   "source": [
    "As you can see, the tree of the board states consists of a total of $266073$ leaves. The `count_possibilities` function essentially implements a BFS algorithm to traverse all the possible states of the game. Notice that we count these states multiple times because placing an $X$ in the top-right corner in Step 1 and placing an $X$ in the top-left corner in Step 3 leads to similar possible states as starting with the top-left corner and then placing an $X$ in the top-right corner. If we implemented the detection of duplicate states, we would have to check fewer nodes. However, at this stage, due to the limited depth of the game, we will omit this step.\n",
    "\n",
    "A decision tree, however, is identical to the data structure examined by `count_possibilities`. In a decision tree, we explore the utility of each move by investigating all possible future steps up to a certain extent. In our example, we could calculate the utility of the initial moves by observing the number of wins and losses after fixing the first few moves."
   ]
  },
  {
   "cell_type": "code",
   "execution_count": null,
   "metadata": {},
   "outputs": [],
   "source": []
  }
 ],
 "metadata": {
  "kernelspec": {
   "display_name": "Python 3",
   "language": "python",
   "name": "python3"
  },
  "language_info": {
   "codemirror_mode": {
    "name": "ipython",
    "version": 3
   },
   "file_extension": ".py",
   "mimetype": "text/x-python",
   "name": "python",
   "nbconvert_exporter": "python",
   "pygments_lexer": "ipython3",
   "version": "3.8.5"
  }
 },
 "nbformat": 4,
 "nbformat_minor": 4
}
